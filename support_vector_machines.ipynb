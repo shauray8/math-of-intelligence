{
 "cells": [
  {
   "cell_type": "markdown",
   "metadata": {},
   "source": [
    "## Support vector machine"
   ]
  },
  {
   "cell_type": "code",
   "execution_count": 11,
   "metadata": {},
   "outputs": [
    {
     "name": "stdout",
     "output_type": "stream",
     "text": [
      "Populating the interactive namespace from numpy and matplotlib\n"
     ]
    }
   ],
   "source": [
    "%pylab inline"
   ]
  },
  {
   "cell_type": "code",
   "execution_count": 4,
   "metadata": {},
   "outputs": [],
   "source": [
    "X = np.array([[-2,4,-1],\n",
    "            [4,1,-1],\n",
    "            [1,6,-1],\n",
    "            [2,4,-1],\n",
    "            [6,2,-1]])\n",
    "\n",
    "y = np.array([-1,-1,1,1,1])"
   ]
  },
  {
   "cell_type": "code",
   "execution_count": 16,
   "metadata": {},
   "outputs": [
    {
     "data": {
      "text/plain": [
       "[<matplotlib.lines.Line2D at 0x1e0cf1d5310>]"
      ]
     },
     "execution_count": 16,
     "metadata": {},
     "output_type": "execute_result"
    },
    {
     "data": {
      "image/png": "[encoded data removed]",
      "text/plain": [
       "<Figure size 432x288 with 1 Axes>"
      ]
     },
     "metadata": {
      "needs_background": "light"
     },
     "output_type": "display_data"
    }
   ],
   "source": [
    "for d, samples in enumerate(X):\n",
    "    \n",
    "    if d < 2:\n",
    "        plt.scatter(samples[0], samples[1],s=120, marker='_')\n",
    "    else:\n",
    "        plt.scatter(samples[0],samples[1],s=120, marker='+')\n",
    "        \n",
    "plt.plot([-2,6],[6,.5])"
   ]
  },
  {
   "cell_type": "code",
   "execution_count": 28,
   "metadata": {},
   "outputs": [],
   "source": [
    "def svm_sgd_plot(X,y):\n",
    "    w = np.zeros(len(X[0]))\n",
    "    eta = 0\n",
    "    epochs = 10000\n",
    "    errors = []\n",
    "    \n",
    "    for epoch in range(1,epochs):\n",
    "        error = 0\n",
    "        for i,x in enumerate(X):\n",
    "            if (y[i]*np.dot(X[i], w)) < 1:\n",
    "                w = w+eta*((X[i]*y[i]+(-2*1/epoch)*w))\n",
    "                error = 1\n",
    "            else:\n",
    "                w = w+eta*(-2*(1/epoch)*w)\n",
    "        errors.append(error)\n",
    "            \n",
    "    plt.plot(errors,'|')\n",
    "    return w"
   ]
  },
  {
   "cell_type": "code",
   "execution_count": 29,
   "metadata": {},
   "outputs": [
    {
     "data": {
      "text/plain": [
       "<matplotlib.collections.PathCollection at 0x1e0d0106070>"
      ]
     },
     "execution_count": 29,
     "metadata": {},
     "output_type": "execute_result"
    },
    {
     "data": {
      "image/png": "[encoded data removed]",
      "text/plain": [
       "<Figure size 432x288 with 1 Axes>"
      ]
     },
     "metadata": {
      "needs_background": "light"
     },
     "output_type": "display_data"
    }
   ],
   "source": [
    "for d, samples in enumerate(X):\n",
    "    \n",
    "    if d < 2:\n",
    "        plt.scatter(samples[0], samples[1],s=120, marker='_')\n",
    "    else:\n",
    "        plt.scatter(samples[0],samples[1],s=120, marker='+')\n",
    "        \n",
    "plt.scatter(2,2,marker=\"_\",color=\"yellow\")\n",
    "plt.scatter(4,3,marker=\"+\", color=\"blue\")\n"
   ]
  },
  {
   "cell_type": "code",
   "execution_count": 30,
   "metadata": {},
   "outputs": [
    {
     "data": {
      "image/png": "[encoded data removed]",
      "text/plain": [
       "<Figure size 432x288 with 1 Axes>"
      ]
     },
     "metadata": {
      "needs_background": "light"
     },
     "output_type": "display_data"
    }
   ],
   "source": [
    "w = svm_sgd_plot(X,y)"
   ]
  },
  {
   "cell_type": "code",
   "execution_count": 24,
   "metadata": {},
   "outputs": [
    {
     "data": {
      "text/plain": [
       "array([0., 0., 0.])"
      ]
     },
     "execution_count": 24,
     "metadata": {},
     "output_type": "execute_result"
    }
   ],
   "source": [
    "w"
   ]
  },
  {
   "cell_type": "code",
   "execution_count": null,
   "metadata": {},
   "outputs": [],
   "source": []
  }
 ],
 "metadata": {
  "kernelspec": {
   "display_name": "Python 3",
   "language": "python",
   "name": "python3"
  },
  "language_info": {
   "codemirror_mode": {
    "name": "ipython",
    "version": 3
   },
   "file_extension": ".py",
   "mimetype": "text/x-python",
   "name": "python",
   "nbconvert_exporter": "python",
   "pygments_lexer": "ipython3",
   "version": "3.8.6"
  }
 },
 "nbformat": 4,
 "nbformat_minor": 4
}
